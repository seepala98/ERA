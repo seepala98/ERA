{
  "nbformat": 4,
  "nbformat_minor": 0,
  "metadata": {
    "colab": {
      "provenance": [],
      "gpuType": "T4"
    },
    "kernelspec": {
      "name": "python3",
      "display_name": "Python 3"
    },
    "language_info": {
      "name": "python"
    },
    "accelerator": "GPU"
  },
  "cells": [
    {
      "cell_type": "markdown",
      "source": [
        "#### SetUp Git"
      ],
      "metadata": {
        "id": "YzGe7XLey4xK"
      }
    },
    {
      "cell_type": "code",
      "execution_count": 1,
      "metadata": {
        "colab": {
          "base_uri": "https://localhost:8080/"
        },
        "id": "pvUGp5KuyrrV",
        "outputId": "12a1096e-7cf5-4ae3-e948-178b5ac47560"
      },
      "outputs": [
        {
          "output_type": "stream",
          "name": "stdout",
          "text": [
            "Cloning into 'ERA'...\n",
            "remote: Enumerating objects: 15, done.\u001b[K\n",
            "remote: Counting objects: 100% (15/15), done.\u001b[K\n",
            "remote: Compressing objects: 100% (13/13), done.\u001b[K\n",
            "remote: Total 15 (delta 1), reused 0 (delta 0), pack-reused 0\u001b[K\n",
            "Receiving objects: 100% (15/15), 5.01 KiB | 5.01 MiB/s, done.\n",
            "Resolving deltas: 100% (1/1), done.\n",
            "fatal: not a git repository (or any of the parent directories): .git\n"
          ]
        }
      ],
      "source": [
        "!git clone https://github.com/seepala98/ERA.git\n",
        "!git pull"
      ]
    },
    {
      "cell_type": "code",
      "source": [
        "from __future__ import print_function\n",
        "import sys\n",
        "sys.path.append(\"/content/ERA/Session_7\")\n",
        "import torch\n",
        "import torch.nn as nn\n",
        "import torch.optim as optim\n",
        "import torch.nn.functional as F\n",
        "from torchvision import datasets, transforms\n",
        "from utils import load_mnist_data, preview_batch_images, plot_statistics\n",
        "from model import model_1_Net, model_summary, train_model, test_model"
      ],
      "metadata": {
        "id": "AsqEzwwBy3Uu"
      },
      "execution_count": 1,
      "outputs": []
    },
    {
      "cell_type": "code",
      "source": [
        "use_cuda = torch.cuda.is_available()\n",
        "device = torch.device('cuda' if use_cuda else 'cpu')\n",
        "model = model_1_Net().to(device)\n",
        "model_summary(model, input_size=(1, 28, 28))"
      ],
      "metadata": {
        "colab": {
          "base_uri": "https://localhost:8080/"
        },
        "id": "yAgN1pYp48Qk",
        "outputId": "47ba8904-23eb-45bd-fdcd-dcc44fa41619"
      },
      "execution_count": 2,
      "outputs": [
        {
          "output_type": "stream",
          "name": "stdout",
          "text": [
            "----------------------------------------------------------------\n",
            "        Layer (type)               Output Shape         Param #\n",
            "================================================================\n",
            "            Conv2d-1           [-1, 10, 26, 26]              90\n",
            "              ReLU-2           [-1, 10, 26, 26]               0\n",
            "            Conv2d-3           [-1, 16, 24, 24]           1,440\n",
            "              ReLU-4           [-1, 16, 24, 24]               0\n",
            "            Conv2d-5           [-1, 16, 22, 22]           2,304\n",
            "              ReLU-6           [-1, 16, 22, 22]               0\n",
            "         MaxPool2d-7           [-1, 16, 11, 11]               0\n",
            "            Conv2d-8           [-1, 10, 11, 11]             160\n",
            "              ReLU-9           [-1, 10, 11, 11]               0\n",
            "           Conv2d-10             [-1, 16, 9, 9]           1,440\n",
            "             ReLU-11             [-1, 16, 9, 9]               0\n",
            "           Conv2d-12             [-1, 16, 7, 7]           2,304\n",
            "             ReLU-13             [-1, 16, 7, 7]               0\n",
            "           Conv2d-14             [-1, 10, 5, 5]           1,440\n",
            "             ReLU-15             [-1, 10, 5, 5]               0\n",
            "AdaptiveAvgPool2d-16             [-1, 10, 1, 1]               0\n",
            "================================================================\n",
            "Total params: 9,178\n",
            "Trainable params: 9,178\n",
            "Non-trainable params: 0\n",
            "----------------------------------------------------------------\n",
            "Input size (MB): 0.00\n",
            "Forward/backward pass size (MB): 0.43\n",
            "Params size (MB): 0.04\n",
            "Estimated Total Size (MB): 0.47\n",
            "----------------------------------------------------------------\n"
          ]
        }
      ]
    },
    {
      "cell_type": "code",
      "source": [
        "train_transforms=transforms.Compose([\n",
        "    transforms.ToTensor(),\n",
        "    transforms.Normalize((0.1307,),(0.3081,))\n",
        "])\n",
        "\n",
        "test_transforms=transforms.Compose([\n",
        "    transforms.ToTensor(),\n",
        "    transforms.Normalize((0.1307,),(0.3081,))\n",
        "])"
      ],
      "metadata": {
        "id": "w-U4d5fT5iED"
      },
      "execution_count": 3,
      "outputs": []
    },
    {
      "cell_type": "code",
      "source": [
        "train_data, test_data = load_mnist_data(train_transforms, test_transforms)"
      ],
      "metadata": {
        "id": "-KqKZmiXIOQE"
      },
      "execution_count": 4,
      "outputs": []
    },
    {
      "cell_type": "code",
      "source": [
        "torch.manual_seed(1)\n",
        "batch_size = 128\n",
        "kwargs = {'num_workers': 2, 'pin_memory': True} if use_cuda else {}\n",
        "train_loader = torch.utils.data.DataLoader(train_data, batch_size=batch_size, shuffle = True, **kwargs)\n",
        "test_loader = torch.utils.data.DataLoader(test_data, batch_size = batch_size, shuffle = True, **kwargs)"
      ],
      "metadata": {
        "id": "LL7tehb1IPmd"
      },
      "execution_count": 5,
      "outputs": []
    },
    {
      "cell_type": "code",
      "source": [
        "preview_batch_images(train_loader)\n"
      ],
      "metadata": {
        "colab": {
          "base_uri": "https://localhost:8080/",
          "height": 463
        },
        "id": "ZTfI6CM6IUPN",
        "outputId": "df421945-4eea-4ad3-bcca-28788ef08c04"
      },
      "execution_count": 6,
      "outputs": [
        {
          "output_type": "display_data",
          "data": {
            "text/plain": [
              "<Figure size 640x480 with 12 Axes>"
            ],
            "image/png": "[encoded data removed]"
          },
          "metadata": {}
        }
      ]
    },
    {
      "cell_type": "code",
      "source": [
        "model = model_1_Net().to(device)\n",
        "optimizer = optim.SGD(model.parameters(), lr=0.01, momentum=0.9)\n",
        "train_losses = []\n",
        "test_losses = []\n",
        "train_acc = []\n",
        "test_acc = []\n",
        "for epoch in range(1,20):\n",
        "    print(f\"epoch: {epoch}\")\n",
        "    train_model(model, train_loader, device, optimizer, train_acc, train_losses)\n",
        "    test_model(model, test_loader, device, test_acc, test_losses)"
      ],
      "metadata": {
        "colab": {
          "base_uri": "https://localhost:8080/"
        },
        "id": "Jos60q7rIVuA",
        "outputId": "5014f919-4845-4c3d-d2c7-9287da03d8bb"
      },
      "execution_count": 7,
      "outputs": [
        {
          "output_type": "stream",
          "name": "stdout",
          "text": [
            "epoch: 1\n"
          ]
        },
        {
          "output_type": "stream",
          "name": "stderr",
          "text": [
            "loss=2.3022403717041016, batch_id = 468 Accuracy= 11.34: 100%|██████████| 469/469 [00:15<00:00, 30.81it/s]\n"
          ]
        },
        {
          "output_type": "stream",
          "name": "stdout",
          "text": [
            "/n Test set: Average loss: 2.3024, Accuracy: 1107/10000 (11.07%)\n",
            "\n",
            "epoch: 2\n"
          ]
        },
        {
          "output_type": "stream",
          "name": "stderr",
          "text": [
            "loss=2.2957160472869873, batch_id = 468 Accuracy= 11.89: 100%|██████████| 469/469 [00:15<00:00, 29.98it/s]\n"
          ]
        },
        {
          "output_type": "stream",
          "name": "stdout",
          "text": [
            "/n Test set: Average loss: 2.2942, Accuracy: 1016/10000 (10.16%)\n",
            "\n",
            "epoch: 3\n"
          ]
        },
        {
          "output_type": "stream",
          "name": "stderr",
          "text": [
            "loss=0.522943913936615, batch_id = 468 Accuracy= 62.27: 100%|██████████| 469/469 [00:15<00:00, 30.63it/s]\n"
          ]
        },
        {
          "output_type": "stream",
          "name": "stdout",
          "text": [
            "/n Test set: Average loss: 0.5221, Accuracy: 8353/10000 (83.53%)\n",
            "\n",
            "epoch: 4\n"
          ]
        },
        {
          "output_type": "stream",
          "name": "stderr",
          "text": [
            "loss=0.48248085379600525, batch_id = 468 Accuracy= 83.71: 100%|██████████| 469/469 [00:19<00:00, 24.23it/s]\n"
          ]
        },
        {
          "output_type": "stream",
          "name": "stdout",
          "text": [
            "/n Test set: Average loss: 0.4704, Accuracy: 8420/10000 (84.20%)\n",
            "\n",
            "epoch: 5\n"
          ]
        },
        {
          "output_type": "stream",
          "name": "stderr",
          "text": [
            "loss=0.5645932555198669, batch_id = 468 Accuracy= 85.67: 100%|██████████| 469/469 [00:17<00:00, 27.13it/s]\n"
          ]
        },
        {
          "output_type": "stream",
          "name": "stdout",
          "text": [
            "/n Test set: Average loss: 0.3968, Accuracy: 8667/10000 (86.67%)\n",
            "\n",
            "epoch: 6\n"
          ]
        },
        {
          "output_type": "stream",
          "name": "stderr",
          "text": [
            "loss=0.2654937505722046, batch_id = 468 Accuracy= 86.40: 100%|██████████| 469/469 [00:15<00:00, 30.18it/s]\n"
          ]
        },
        {
          "output_type": "stream",
          "name": "stdout",
          "text": [
            "/n Test set: Average loss: 0.3832, Accuracy: 8656/10000 (86.56%)\n",
            "\n",
            "epoch: 7\n"
          ]
        },
        {
          "output_type": "stream",
          "name": "stderr",
          "text": [
            "loss=0.2378741055727005, batch_id = 468 Accuracy= 86.98: 100%|██████████| 469/469 [00:16<00:00, 27.85it/s]\n"
          ]
        },
        {
          "output_type": "stream",
          "name": "stdout",
          "text": [
            "/n Test set: Average loss: 0.3624, Accuracy: 8717/10000 (87.17%)\n",
            "\n",
            "epoch: 8\n"
          ]
        },
        {
          "output_type": "stream",
          "name": "stderr",
          "text": [
            "loss=0.5158731937408447, batch_id = 468 Accuracy= 87.32: 100%|██████████| 469/469 [00:15<00:00, 29.92it/s]\n"
          ]
        },
        {
          "output_type": "stream",
          "name": "stdout",
          "text": [
            "/n Test set: Average loss: 0.3536, Accuracy: 8718/10000 (87.18%)\n",
            "\n",
            "epoch: 9\n"
          ]
        },
        {
          "output_type": "stream",
          "name": "stderr",
          "text": [
            "loss=0.3763679265975952, batch_id = 468 Accuracy= 87.59: 100%|██████████| 469/469 [00:15<00:00, 29.99it/s]\n"
          ]
        },
        {
          "output_type": "stream",
          "name": "stdout",
          "text": [
            "/n Test set: Average loss: 0.3394, Accuracy: 8794/10000 (87.94%)\n",
            "\n",
            "epoch: 10\n"
          ]
        },
        {
          "output_type": "stream",
          "name": "stderr",
          "text": [
            "loss=0.5095887780189514, batch_id = 468 Accuracy= 87.77: 100%|██████████| 469/469 [00:15<00:00, 30.35it/s]\n"
          ]
        },
        {
          "output_type": "stream",
          "name": "stdout",
          "text": [
            "/n Test set: Average loss: 0.3291, Accuracy: 8791/10000 (87.91%)\n",
            "\n",
            "epoch: 11\n"
          ]
        },
        {
          "output_type": "stream",
          "name": "stderr",
          "text": [
            "loss=0.20098036527633667, batch_id = 468 Accuracy= 87.93: 100%|██████████| 469/469 [00:16<00:00, 29.03it/s]\n"
          ]
        },
        {
          "output_type": "stream",
          "name": "stdout",
          "text": [
            "/n Test set: Average loss: 0.3412, Accuracy: 8765/10000 (87.65%)\n",
            "\n",
            "epoch: 12\n"
          ]
        },
        {
          "output_type": "stream",
          "name": "stderr",
          "text": [
            "loss=0.39617133140563965, batch_id = 468 Accuracy= 87.99: 100%|██████████| 469/469 [00:15<00:00, 29.86it/s]\n"
          ]
        },
        {
          "output_type": "stream",
          "name": "stdout",
          "text": [
            "/n Test set: Average loss: 0.3181, Accuracy: 8823/10000 (88.23%)\n",
            "\n",
            "epoch: 13\n"
          ]
        },
        {
          "output_type": "stream",
          "name": "stderr",
          "text": [
            "loss=0.5895859599113464, batch_id = 468 Accuracy= 88.12: 100%|██████████| 469/469 [00:15<00:00, 30.21it/s]\n"
          ]
        },
        {
          "output_type": "stream",
          "name": "stdout",
          "text": [
            "/n Test set: Average loss: 0.3162, Accuracy: 8809/10000 (88.09%)\n",
            "\n",
            "epoch: 14\n"
          ]
        },
        {
          "output_type": "stream",
          "name": "stderr",
          "text": [
            "loss=0.21005725860595703, batch_id = 468 Accuracy= 88.19: 100%|██████████| 469/469 [00:15<00:00, 29.36it/s]\n"
          ]
        },
        {
          "output_type": "stream",
          "name": "stdout",
          "text": [
            "/n Test set: Average loss: 0.3184, Accuracy: 8802/10000 (88.02%)\n",
            "\n",
            "epoch: 15\n"
          ]
        },
        {
          "output_type": "stream",
          "name": "stderr",
          "text": [
            "loss=0.2371787428855896, batch_id = 468 Accuracy= 88.38: 100%|██████████| 469/469 [00:15<00:00, 29.90it/s]\n"
          ]
        },
        {
          "output_type": "stream",
          "name": "stdout",
          "text": [
            "/n Test set: Average loss: 0.3152, Accuracy: 8828/10000 (88.28%)\n",
            "\n",
            "epoch: 16\n"
          ]
        },
        {
          "output_type": "stream",
          "name": "stderr",
          "text": [
            "loss=0.17462749779224396, batch_id = 468 Accuracy= 88.49: 100%|██████████| 469/469 [00:15<00:00, 30.23it/s]\n"
          ]
        },
        {
          "output_type": "stream",
          "name": "stdout",
          "text": [
            "/n Test set: Average loss: 0.3139, Accuracy: 8841/10000 (88.41%)\n",
            "\n",
            "epoch: 17\n"
          ]
        },
        {
          "output_type": "stream",
          "name": "stderr",
          "text": [
            "loss=0.23296882212162018, batch_id = 468 Accuracy= 88.54: 100%|██████████| 469/469 [00:15<00:00, 29.77it/s]\n"
          ]
        },
        {
          "output_type": "stream",
          "name": "stdout",
          "text": [
            "/n Test set: Average loss: 0.3270, Accuracy: 8806/10000 (88.06%)\n",
            "\n",
            "epoch: 18\n"
          ]
        },
        {
          "output_type": "stream",
          "name": "stderr",
          "text": [
            "loss=0.2413332313299179, batch_id = 468 Accuracy= 88.58: 100%|██████████| 469/469 [00:16<00:00, 28.21it/s]\n"
          ]
        },
        {
          "output_type": "stream",
          "name": "stdout",
          "text": [
            "/n Test set: Average loss: 0.2991, Accuracy: 8864/10000 (88.64%)\n",
            "\n",
            "epoch: 19\n"
          ]
        },
        {
          "output_type": "stream",
          "name": "stderr",
          "text": [
            "loss=0.2676090896129608, batch_id = 468 Accuracy= 88.73: 100%|██████████| 469/469 [00:15<00:00, 29.81it/s]\n"
          ]
        },
        {
          "output_type": "stream",
          "name": "stdout",
          "text": [
            "/n Test set: Average loss: 0.2978, Accuracy: 8867/10000 (88.67%)\n",
            "\n"
          ]
        }
      ]
    },
    {
      "cell_type": "code",
      "source": [
        "plot_statistics(train_losses, train_acc, test_losses, test_acc)"
      ],
      "metadata": {
        "colab": {
          "base_uri": "https://localhost:8080/",
          "height": 786
        },
        "id": "otybWsZdIhYd",
        "outputId": "69050a2a-8cc9-4987-a741-5fbcfd52f3b1"
      },
      "execution_count": 8,
      "outputs": [
        {
          "output_type": "display_data",
          "data": {
            "text/plain": [
              "<Figure size 1500x1000 with 4 Axes>"
            ],
            "image/png": "[encoded data removed]"
          },
          "metadata": {}
        }
      ]
    },
    {
      "cell_type": "code",
      "source": [],
      "metadata": {
        "id": "tW9pGyKLKtJo"
      },
      "execution_count": null,
      "outputs": []
    }
  ]
}